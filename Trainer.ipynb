{
 "cells": [
  {
   "cell_type": "code",
   "execution_count": 1,
   "metadata": {},
   "outputs": [
    {
     "name": "stderr",
     "output_type": "stream",
     "text": [
      "WARNING: Logging before flag parsing goes to stderr.\n",
      "W0802 12:20:16.055316 140002572785472 deprecation_wrapper.py:119] From /home/jovyan/Boo/TextRNN.py:6: The name tf.enable_eager_execution is deprecated. Please use tf.compat.v1.enable_eager_execution instead.\n",
      "\n"
     ]
    }
   ],
   "source": [
    "import json\n",
    "import os\n",
    "from TextRNN import CharRNN"
   ]
  },
  {
   "cell_type": "code",
   "execution_count": 2,
   "metadata": {},
   "outputs": [],
   "source": [
    "fp_dir = '/home/jovyan/Boo/Data/Dem_Debate_Data/'"
   ]
  },
  {
   "cell_type": "code",
   "execution_count": null,
   "metadata": {},
   "outputs": [
    {
     "name": "stdout",
     "output_type": "stream",
     "text": [
      "The history saving thread hit an unexpected error (OperationalError('attempt to write a readonly database')).History will not be written to the database.\n"
     ]
    }
   ],
   "source": [
    "data = []\n",
    "\n",
    "\n",
    "\n",
    "for file in os.listdir(fp_dir):\n",
    "    if file.endswith(\".txt\"):\n",
    "        fp_file = os.path.join(fp_dir, file)\n",
    "\n",
    "        with open(fp_file, encoding='utf-8') as f:\n",
    "            data.append(f.read())\n",
    "\n",
    "text = ''\n",
    "for idx, line in enumerate(data):\n",
    "    s = line\n",
    "    s = s.encode(\"ascii\", errors=\"ignore\").decode()\n",
    "    text += '▶️' + s + '🛑\\n\\n\\n'\n"
   ]
  },
  {
   "cell_type": "code",
   "execution_count": null,
   "metadata": {},
   "outputs": [
    {
     "name": "stdout",
     "output_type": "stream",
     "text": [
      "Text length: 530450\n",
      "Text composed of 81 different characters\n",
      "No GPU available :(\n"
     ]
    },
    {
     "name": "stderr",
     "output_type": "stream",
     "text": [
      "W0802 12:20:16.837259 140002572785472 deprecation_wrapper.py:119] From /home/jovyan/Boo/TextRNN.py:88: The name tf.train.AdamOptimizer is deprecated. Please use tf.compat.v1.train.AdamOptimizer instead.\n",
      "\n"
     ]
    },
    {
     "name": "stdout",
     "output_type": "stream",
     "text": [
      "Model: \"sequential\"\n",
      "_________________________________________________________________\n",
      "Layer (type)                 Output Shape              Param #   \n",
      "=================================================================\n",
      "embedding (Embedding)        (64, None, 64)            5184      \n",
      "_________________________________________________________________\n",
      "gru (GRU)                    (64, None, 128)           74112     \n",
      "_________________________________________________________________\n",
      "dense (Dense)                (64, None, 81)            10449     \n",
      "=================================================================\n",
      "Total params: 89,745\n",
      "Trainable params: 89,745\n",
      "Non-trainable params: 0\n",
      "_________________________________________________________________\n"
     ]
    }
   ],
   "source": [
    "cRNN = CharRNN(text)\n",
    "cRNN.build_compile()"
   ]
  },
  {
   "cell_type": "code",
   "execution_count": null,
   "metadata": {},
   "outputs": [
    {
     "name": "stdout",
     "output_type": "stream",
     "text": [
      "33 steps per epoch\n",
      "Epoch 1/15\n",
      "33/33 [==============================] - 23s 697ms/step - loss: 3.8033\n",
      "Epoch 2/15\n",
      "33/33 [==============================] - 24s 735ms/step - loss: 3.1537\n",
      "Epoch 3/15\n",
      "33/33 [==============================] - 23s 686ms/step - loss: 3.0246\n",
      "Epoch 4/15\n",
      "33/33 [==============================] - 21s 630ms/step - loss: 2.8223\n",
      "Epoch 5/15\n",
      "33/33 [==============================] - 20s 594ms/step - loss: 2.6241\n",
      "Epoch 6/15\n",
      "30/33 [==========================>...] - ETA: 1s - loss: 2.5054"
     ]
    }
   ],
   "source": [
    "cRNN.fit(15)"
   ]
  },
  {
   "cell_type": "code",
   "execution_count": null,
   "metadata": {},
   "outputs": [],
   "source": [
    "cRNN.get_last_trained_model()"
   ]
  },
  {
   "cell_type": "code",
   "execution_count": null,
   "metadata": {},
   "outputs": [],
   "source": [
    "cRNN.generate_text('▶️', seed=123)"
   ]
  }
 ],
 "metadata": {
  "kernelspec": {
   "display_name": "Python 3",
   "language": "python",
   "name": "python3"
  },
  "language_info": {
   "codemirror_mode": {
    "name": "ipython",
    "version": 3
   },
   "file_extension": ".py",
   "mimetype": "text/x-python",
   "name": "python",
   "nbconvert_exporter": "python",
   "pygments_lexer": "ipython3",
   "version": "3.7.3"
  }
 },
 "nbformat": 4,
 "nbformat_minor": 2
}
